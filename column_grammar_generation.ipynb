{
 "cells": [
  {
   "cell_type": "markdown",
   "metadata": {},
   "source": [
    "### Generate Grammar Values"
   ]
  },
  {
   "cell_type": "markdown",
   "metadata": {},
   "source": [
    "This notebook looks through all the levels in cleaned maps and finds the unique columns and stores them in a json file in the folder `grammar`"
   ]
  },
  {
   "cell_type": "code",
   "execution_count": 1,
   "metadata": {},
   "outputs": [],
   "source": [
    "from tqdm import tqdm_notebook\n",
    "import os"
   ]
  },
  {
   "cell_type": "code",
   "execution_count": 2,
   "metadata": {},
   "outputs": [],
   "source": [
    "TARGET_DIR = 'grammar/'\n",
    "LEVELS_DIR = 'levels/cleaned_maps'"
   ]
  },
  {
   "cell_type": "code",
   "execution_count": 3,
   "metadata": {},
   "outputs": [],
   "source": [
    "columns = {}"
   ]
  },
  {
   "cell_type": "code",
   "execution_count": 4,
   "metadata": {},
   "outputs": [
    {
     "data": {
      "application/vnd.jupyter.widget-view+json": {
       "model_id": "4f61f766fc6948f3af0fbf994b08e457",
       "version_major": 2,
       "version_minor": 0
      },
      "text/plain": [
       "HBox(children=(IntProgress(value=0, max=12), HTML(value='')))"
      ]
     },
     "metadata": {},
     "output_type": "display_data"
    },
    {
     "name": "stdout",
     "output_type": "stream",
     "text": [
      "\n"
     ]
    }
   ],
   "source": [
    "files = os.listdir(LEVELS_DIR)\n",
    "for file in tqdm_notebook(files):\n",
    "    f = open(os.path.join(LEVELS_DIR, file))\n",
    "    lines = f.readlines()\n",
    "    f.close()\n",
    "    \n",
    "    for line in lines:\n",
    "        line = line.strip()\n",
    "        if line not in columns:\n",
    "            columns[line] = 0\n",
    "        \n",
    "        columns[line] += 1"
   ]
  },
  {
   "cell_type": "code",
   "execution_count": 5,
   "metadata": {},
   "outputs": [],
   "source": [
    "grammar = {}\n",
    "\n",
    "i = 0\n",
    "for key in columns:\n",
    "    grammar[i] = key\n",
    "    i += 1"
   ]
  },
  {
   "cell_type": "code",
   "execution_count": 6,
   "metadata": {},
   "outputs": [],
   "source": [
    "import json\n",
    "\n",
    "f = open(os.path.join('grammar', 'grammar.json'), 'w')\n",
    "f.write(json.dumps(grammar))\n",
    "f.close()"
   ]
  },
  {
   "cell_type": "markdown",
   "metadata": {},
   "source": [
    "### Top 10 Most "
   ]
  },
  {
   "cell_type": "code",
   "execution_count": 7,
   "metadata": {},
   "outputs": [
    {
     "data": {
      "text/plain": [
       "[('|:::::::::::', 1174),\n",
       " ('::::::::::::', 194),\n",
       " ('|::::::::::::', 106),\n",
       " (':::w::::::::', 73),\n",
       " ('|g::::::::::', 50),\n",
       " ('|:::::::#:::', 46),\n",
       " ('T:::::::::::', 31),\n",
       " ('|k::::::::::', 29),\n",
       " ('|ppppe::::::', 28),\n",
       " ('|:::#:::#:::', 28)]"
      ]
     },
     "execution_count": 7,
     "metadata": {},
     "output_type": "execute_result"
    }
   ],
   "source": [
    "from collections import Counter\n",
    "Counter(columns).most_common(10)"
   ]
  }
 ],
 "metadata": {
  "kernelspec": {
   "display_name": "Python 3",
   "language": "python",
   "name": "python3"
  },
  "language_info": {
   "codemirror_mode": {
    "name": "ipython",
    "version": 3
   },
   "file_extension": ".py",
   "mimetype": "text/x-python",
   "name": "python",
   "nbconvert_exporter": "python",
   "pygments_lexer": "ipython3",
   "version": "3.6.6"
  }
 },
 "nbformat": 4,
 "nbformat_minor": 2
}
