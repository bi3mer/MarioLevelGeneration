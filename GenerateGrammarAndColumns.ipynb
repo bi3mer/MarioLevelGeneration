{
 "cells": [
  {
   "cell_type": "markdown",
   "metadata": {},
   "source": [
    "## Generate Grammar Items"
   ]
  },
  {
   "cell_type": "markdown",
   "metadata": {},
   "source": [
    "This section of the notebook generates reads through every single map and creates mapping from a string to a column."
   ]
  },
  {
   "cell_type": "code",
   "execution_count": 1,
   "metadata": {},
   "outputs": [],
   "source": [
    "from map_generation.generate_image import pre_process_map\n",
    "from tqdm import tqdm_notebook\n",
    "import queue\n",
    "import json\n",
    "import os"
   ]
  },
  {
   "cell_type": "code",
   "execution_count": 2,
   "metadata": {},
   "outputs": [],
   "source": [
    "TARGET_DIR = 'grammar/grammar_values/'\n",
    "LEVELS_DIR = 'levels/csv_cleaned_maps'"
   ]
  },
  {
   "cell_type": "code",
   "execution_count": 3,
   "metadata": {},
   "outputs": [],
   "source": [
    "columns = {}"
   ]
  },
  {
   "cell_type": "code",
   "execution_count": 4,
   "metadata": {},
   "outputs": [],
   "source": [
    "files = os.listdir(LEVELS_DIR)\n",
    "for file in files:\n",
    "    # read file\n",
    "    f = open(os.path.join(LEVELS_DIR, file))\n",
    "    lines = f.readlines()\n",
    "    f.close()\n",
    "    \n",
    "    # convert lines into pre-processed\n",
    "    for i in range(len(lines)):\n",
    "        lines[i] = lines[i].strip()\n",
    "    pre_process_map(lines)\n",
    "    \n",
    "    # convert lines to grammar\n",
    "    for line in lines:\n",
    "        line_str = ','.join(line)\n",
    "        if line_str not in columns:\n",
    "            columns[line_str] = 0\n",
    "        \n",
    "        columns[line_str] += 1"
   ]
  },
  {
   "cell_type": "code",
   "execution_count": 5,
   "metadata": {},
   "outputs": [],
   "source": [
    "grammar = {}\n",
    "grammar_reversed = {}\n",
    "\n",
    "i = 0\n",
    "for key in columns:\n",
    "    grammar[i] = key\n",
    "    grammar_reversed[key] = i\n",
    "    i += 1"
   ]
  },
  {
   "cell_type": "code",
   "execution_count": 6,
   "metadata": {},
   "outputs": [],
   "source": [
    "f = open(os.path.join(TARGET_DIR, 'grammar.json'), 'w')\n",
    "f.write(json.dumps(grammar))\n",
    "f.close()\n",
    "\n",
    "f = open(os.path.join(TARGET_DIR, 'grammar_reversed.json'), 'w')\n",
    "f.write(json.dumps(grammar_reversed))\n",
    "f.close()"
   ]
  },
  {
   "cell_type": "markdown",
   "metadata": {},
   "source": [
    "## Grammar Generator"
   ]
  },
  {
   "cell_type": "markdown",
   "metadata": {},
   "source": [
    "This section will read through the maps again, but this time use the mappings created, above, to create a full grammar."
   ]
  },
  {
   "cell_type": "code",
   "execution_count": 7,
   "metadata": {},
   "outputs": [],
   "source": [
    "CLEANED_MAPS = 'levels/csv_cleaned_maps/'\n",
    "MAX_SIZE = 5"
   ]
  },
  {
   "cell_type": "code",
   "execution_count": 8,
   "metadata": {},
   "outputs": [],
   "source": [
    "grammars = [{} for i in range(MAX_SIZE)]"
   ]
  },
  {
   "cell_type": "code",
   "execution_count": 9,
   "metadata": {},
   "outputs": [],
   "source": [
    "def convert_to_level_matrix(lvl_matrix):\n",
    "    for i in range(len(lvl_matrix)):\n",
    "        lvl_matrix[i] = str(grammar_reversed[lvl_matrix[i].strip()])"
   ]
  },
  {
   "cell_type": "code",
   "execution_count": 10,
   "metadata": {},
   "outputs": [],
   "source": [
    "def convert_to_grammar(lvl_matrix, lvl_grammar, size):\n",
    "    q = queue.Queue()\n",
    "    for i in range(size):\n",
    "        q.put('0')\n",
    "    \n",
    "    for col in lvl_matrix[size:]:\n",
    "        grammar_value = ','.join(list(q.queue))\n",
    "        \n",
    "        if grammar_value not in lvl_grammar:\n",
    "            lvl_grammar[grammar_value] = {}\n",
    "\n",
    "        g_value = str(grammar_reversed[','.join(col)])\n",
    "        if g_value not in lvl_grammar[grammar_value]:\n",
    "            lvl_grammar[grammar_value][g_value] = 0\n",
    "            \n",
    "        lvl_grammar[grammar_value][g_value] += 1\n",
    "        \n",
    "        last_val = q.get()\n",
    "        q.put(g_value)"
   ]
  },
  {
   "cell_type": "code",
   "execution_count": 11,
   "metadata": {},
   "outputs": [],
   "source": [
    "files = os.listdir(CLEANED_MAPS)\n",
    "\n",
    "for file in files:\n",
    "    f = open(os.path.join(CLEANED_MAPS, file), 'r')\n",
    "    lines = f.readlines()\n",
    "    f.close()\n",
    "    \n",
    "    for i in range(len(lines)):\n",
    "        lines[i] = lines[i].strip()\n",
    "    pre_process_map(lines)\n",
    "    \n",
    "    for size in range(MAX_SIZE):\n",
    "        convert_to_grammar(lines, grammars[size], size+1)"
   ]
  },
  {
   "cell_type": "code",
   "execution_count": 12,
   "metadata": {},
   "outputs": [
    {
     "data": {
      "application/vnd.jupyter.widget-view+json": {
       "model_id": "d0f79952f9854629847d8c5b2f98e1d8",
       "version_major": 2,
       "version_minor": 0
      },
      "text/plain": [
       "HBox(children=(IntProgress(value=0, max=5), HTML(value='')))"
      ]
     },
     "metadata": {},
     "output_type": "display_data"
    },
    {
     "name": "stdout",
     "output_type": "stream",
     "text": [
      "\n"
     ]
    }
   ],
   "source": [
    "for i in tqdm_notebook(range(len(grammars))):\n",
    "    size_g = grammars[i]\n",
    "    for g in size_g:\n",
    "        total = 0\n",
    "        for key in size_g[g]:\n",
    "            total += size_g[g][key]\n",
    "\n",
    "        for key in size_g[g]:\n",
    "            size_g[g][key] /= float(total)"
   ]
  },
  {
   "cell_type": "code",
   "execution_count": 13,
   "metadata": {},
   "outputs": [],
   "source": [
    "for i in range(len(grammars)):\n",
    "    f = open('grammar/grammar_values/%s_grammar.json' % (str(i + 1)), 'w')\n",
    "    f.write(json.dumps(grammars[i]))\n",
    "    f.close()"
   ]
  }
 ],
 "metadata": {
  "kernelspec": {
   "display_name": "Python 3",
   "language": "python",
   "name": "python3"
  },
  "language_info": {
   "codemirror_mode": {
    "name": "ipython",
    "version": 3
   },
   "file_extension": ".py",
   "mimetype": "text/x-python",
   "name": "python",
   "nbconvert_exporter": "python",
   "pygments_lexer": "ipython3",
   "version": "3.6.5"
  }
 },
 "nbformat": 4,
 "nbformat_minor": 2
}
