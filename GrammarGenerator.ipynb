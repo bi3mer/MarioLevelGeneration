{
 "cells": [
  {
   "cell_type": "markdown",
   "metadata": {},
   "source": [
    "# Grammar Generation"
   ]
  },
  {
   "cell_type": "markdown",
   "metadata": {},
   "source": [
    "Grammar is generated based on levels from `levels/cleaned_maps/` which are generated from super mario bros levels."
   ]
  },
  {
   "cell_type": "code",
   "execution_count": 1,
   "metadata": {},
   "outputs": [],
   "source": [
    "MAP_DIRECTORY = 'levels/cleaned_maps'"
   ]
  },
  {
   "cell_type": "markdown",
   "metadata": {},
   "source": [
    "We are going to generate 5 grammars, where grammar 1 looks back one column. Grammar 2 looks back two columns and may be:\n",
    "\n",
    "```\n",
    "ab -> c\n",
    "bc -> a,b,d\n",
    "```\n",
    "\n",
    "I'm going to diverge from this, though, and apply totals as well. For example, in the case of `ab->c` the weight for `c` would be 1. However, in the other case it would be based on the number of appearances that it made while looking through the maps. Therefore, let's say after `bc`, `a` showed up 10 times, `b` 2 times, and `d` 4 times. This means the weights would be `10/16`, `2/16`, and `4/16` respectively."
   ]
  },
  {
   "cell_type": "code",
   "execution_count": null,
   "metadata": {},
   "outputs": [],
   "source": []
  }
 ],
 "metadata": {
  "kernelspec": {
   "display_name": "Python 3",
   "language": "python",
   "name": "python3"
  },
  "language_info": {
   "codemirror_mode": {
    "name": "ipython",
    "version": 3
   },
   "file_extension": ".py",
   "mimetype": "text/x-python",
   "name": "python",
   "nbconvert_exporter": "python",
   "pygments_lexer": "ipython3",
   "version": "3.6.6"
  }
 },
 "nbformat": 4,
 "nbformat_minor": 2
}
