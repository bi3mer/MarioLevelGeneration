{
 "cells": [
  {
   "cell_type": "markdown",
   "metadata": {},
   "source": [
    "# Grammar Generation"
   ]
  },
  {
   "cell_type": "markdown",
   "metadata": {},
   "source": [
    "Grammar is generated based on levels from `levels/cleaned_maps/` which are generated from super mario bros levels."
   ]
  },
  {
   "cell_type": "code",
   "execution_count": 1,
   "metadata": {},
   "outputs": [],
   "source": [
    "MAP_DIRECTORY = 'levels/cleaned_maps'"
   ]
  },
  {
   "cell_type": "markdown",
   "metadata": {},
   "source": [
    "We are going to generate 5 grammars, where grammar 1 looks back one column. Grammar 2 looks back two columns and may be:\n",
    "\n",
    "```\n",
    "ab -> c\n",
    "bc -> a,b,d\n",
    "```\n",
    "\n",
    "I'm going to diverge from this, though, and apply totals as well. For example, in the case of `ab->c` the weight for `c` would be 1. However, in the other case it would be based on the number of appearances that it made while looking through the maps. Therefore, let's say after `bc`, `a` showed up 10 times, `b` 2 times, and `d` 4 times. This means the weights would be `10/16`, `2/16`, and `4/16` respectively."
   ]
  },
  {
   "cell_type": "code",
   "execution_count": 2,
   "metadata": {},
   "outputs": [],
   "source": [
    "MAX_SIZE = 5"
   ]
  },
  {
   "cell_type": "markdown",
   "metadata": {},
   "source": [
    "#### Getting Grammar Pieces"
   ]
  },
  {
   "cell_type": "code",
   "execution_count": 3,
   "metadata": {},
   "outputs": [],
   "source": [
    "import json\n",
    "\n",
    "def read_json(file_path):\n",
    "    f = open(file_path)\n",
    "    j = json.loads('\\n.'.join(f.readlines()))\n",
    "    f.close()\n",
    "    \n",
    "    return j"
   ]
  },
  {
   "cell_type": "code",
   "execution_count": 4,
   "metadata": {},
   "outputs": [],
   "source": [
    "grammar = read_json('grammar/grammar_reversed.json')"
   ]
  },
  {
   "cell_type": "markdown",
   "metadata": {},
   "source": [
    "### Creating Grammar"
   ]
  },
  {
   "cell_type": "code",
   "execution_count": 5,
   "metadata": {},
   "outputs": [],
   "source": [
    "from tqdm import tqdm_notebook\n",
    "import queue\n",
    "import os"
   ]
  },
  {
   "cell_type": "code",
   "execution_count": 6,
   "metadata": {},
   "outputs": [],
   "source": [
    "CLEANED_MAPS = 'levels/cleaned_maps/'"
   ]
  },
  {
   "cell_type": "code",
   "execution_count": 7,
   "metadata": {},
   "outputs": [],
   "source": [
    "grammars = [{} for i in range(MAX_SIZE)]"
   ]
  },
  {
   "cell_type": "code",
   "execution_count": 8,
   "metadata": {},
   "outputs": [],
   "source": [
    "def convert_to_level_matrix(lvl_matrix):\n",
    "    for i in range(len(lvl_matrix)):\n",
    "        lvl_matrix[i] = str(grammar[lvl_matrix[i].strip()])"
   ]
  },
  {
   "cell_type": "code",
   "execution_count": 9,
   "metadata": {},
   "outputs": [],
   "source": [
    "def convert_to_grammar(lvl_matrix, lvl_grammar, size):\n",
    "    q = queue.Queue()\n",
    "    for i in range(size):\n",
    "        q.put('0')\n",
    "    \n",
    "    for col in lvl_matrix[size:]:\n",
    "        grammar_value = ','.join(list(q.queue))\n",
    "        \n",
    "        if grammar_value not in lvl_grammar:\n",
    "            lvl_grammar[grammar_value] = {}\n",
    "        \n",
    "        if col not in lvl_grammar[grammar_value]:\n",
    "            lvl_grammar[grammar_value][col] = 0\n",
    "            \n",
    "        lvl_grammar[grammar_value][col] += 1\n",
    "        \n",
    "        last_val = q.get()\n",
    "        q.put(col)"
   ]
  },
  {
   "cell_type": "code",
   "execution_count": 10,
   "metadata": {},
   "outputs": [
    {
     "data": {
      "application/vnd.jupyter.widget-view+json": {
       "model_id": "55f201be7f124820ba3c7c8823fd13e4",
       "version_major": 2,
       "version_minor": 0
      },
      "text/plain": [
       "HBox(children=(IntProgress(value=0, max=12), HTML(value='')))"
      ]
     },
     "metadata": {},
     "output_type": "display_data"
    },
    {
     "name": "stdout",
     "output_type": "stream",
     "text": [
      "\n"
     ]
    }
   ],
   "source": [
    "files = os.listdir(CLEANED_MAPS)\n",
    "\n",
    "for file in tqdm_notebook(files):\n",
    "    f = open(os.path.join(CLEANED_MAPS, file), 'r')\n",
    "    matrix = f.readlines()\n",
    "    f.close()\n",
    "    convert_to_level_matrix(matrix)\n",
    "    \n",
    "    for size in range(MAX_SIZE):\n",
    "        convert_to_grammar(matrix, grammars[size], size+1)"
   ]
  },
  {
   "cell_type": "markdown",
   "metadata": {},
   "source": [
    "### Converting Grammar to Percentages"
   ]
  },
  {
   "cell_type": "code",
   "execution_count": 11,
   "metadata": {},
   "outputs": [
    {
     "data": {
      "application/vnd.jupyter.widget-view+json": {
       "model_id": "b509e38a89b14b68b32e2ae243c0334c",
       "version_major": 2,
       "version_minor": 0
      },
      "text/plain": [
       "HBox(children=(IntProgress(value=0, max=5), HTML(value='')))"
      ]
     },
     "metadata": {},
     "output_type": "display_data"
    },
    {
     "name": "stdout",
     "output_type": "stream",
     "text": [
      "\n"
     ]
    }
   ],
   "source": [
    "for i in tqdm_notebook(range(len(grammars))):\n",
    "    size_g = grammars[i]\n",
    "    for g in size_g:\n",
    "        total = 0\n",
    "        for key in size_g[g]:\n",
    "            total += size_g[g][key]\n",
    "\n",
    "        for key in size_g[g]:\n",
    "            size_g[g][key] /= float(total)"
   ]
  },
  {
   "cell_type": "markdown",
   "metadata": {},
   "source": [
    "### Saving Grammar"
   ]
  },
  {
   "cell_type": "code",
   "execution_count": 12,
   "metadata": {},
   "outputs": [],
   "source": [
    "for i in range(len(grammars)):\n",
    "    f = open('grammar/%s_grammar.json' % (str(i + 1)), 'w')\n",
    "    f.write(json.dumps(grammars[i]))\n",
    "    f.close()"
   ]
  }
 ],
 "metadata": {
  "kernelspec": {
   "display_name": "Python 3",
   "language": "python",
   "name": "python3"
  },
  "language_info": {
   "codemirror_mode": {
    "name": "ipython",
    "version": 3
   },
   "file_extension": ".py",
   "mimetype": "text/x-python",
   "name": "python",
   "nbconvert_exporter": "python",
   "pygments_lexer": "ipython3",
   "version": "3.6.6"
  }
 },
 "nbformat": 4,
 "nbformat_minor": 2
}
