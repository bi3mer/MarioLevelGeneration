{
 "cells": [
  {
   "cell_type": "markdown",
   "metadata": {},
   "source": [
    "# Weighted Grammar\n",
    "\n",
    "This notebook uses the weights generated in the notebook `GrammarGenerator` to generate sample levels. It isn't meant to generate great levels, just a testbed to see how things can progress."
   ]
  },
  {
   "cell_type": "code",
   "execution_count": null,
   "metadata": {},
   "outputs": [],
   "source": [
    "PATH_GRAMMAR_1 = 'grammar/1_grammar.json'\n",
    "PATH_GRAMMAR_2 = 'grammar/2_grammar.json'\n",
    "PATH_GRAMMAR_3 = 'grammar/3_grammar.json'\n",
    "PATH_GRAMMAR_4 = 'grammar/4_grammar.json'\n",
    "PATH_GRAMMAR_5 = 'grammar/5_grammar.json'\n",
    "\n",
    "grammar_paths = [PATH_GRAMMAR_1, PATH_GRAMMAR_2, PATH_GRAMMAR_3,\n",
    "                 PATH_GRAMMAR_4, PATH_GRAMMAR_5]"
   ]
  },
  {
   "cell_type": "code",
   "execution_count": null,
   "metadata": {},
   "outputs": [],
   "source": [
    "from map_generation import generate_image\n",
    "from IPython.display import Image\n",
    "import random\n",
    "import json\n",
    "import os"
   ]
  },
  {
   "cell_type": "code",
   "execution_count": null,
   "metadata": {},
   "outputs": [],
   "source": [
    "random.seed(5)"
   ]
  },
  {
   "cell_type": "markdown",
   "metadata": {},
   "source": [
    "The way I know how to visualize a result for a generated map, using a previous image is to generate it into a temp png and then use the IPython display Image to show the image. After that, you can delete the image and it will still show up on the notebook:\n",
    "\n",
    "```\n",
    "generate_image.convert_map(map_str, display=False, save_path='temp_map.png')  \n",
    "Image(filename='temp_map.png') \n",
    "os.remove(\"temp_map.png\")    \n",
    "```\n",
    "\n",
    "Note, however, immediately deleting after calling the Image function will not work. Not sure why, but if you call the image function in a separate cell than it's fine."
   ]
  },
  {
   "cell_type": "code",
   "execution_count": null,
   "metadata": {},
   "outputs": [],
   "source": [
    "f = open('grammar/grammar.json', 'r')\n",
    "grammar_to_col = json.loads(f.read())\n",
    "f.close()"
   ]
  },
  {
   "cell_type": "code",
   "execution_count": null,
   "metadata": {},
   "outputs": [],
   "source": [
    "MIN_MAP_LENGTH = 100\n",
    "FLAG_GRAMMAR = '35' # 36 is the flat but 35 is where we the next step has tobe 36\n",
    "END_GRAMMAR = '36'\n",
    "START_GRAMMAR = '0'"
   ]
  },
  {
   "cell_type": "code",
   "execution_count": null,
   "metadata": {},
   "outputs": [],
   "source": [
    "for i in range(len(grammar_paths)):\n",
    "    grammar_size = i+1\n",
    "    f = open('grammar/%i_grammar.json' % (grammar_size), 'r')\n",
    "    grammar = json.loads(f.read())\n",
    "    f.close()\n",
    "    \n",
    "    grammar_map = [START_GRAMMAR for i in range(6)]\n",
    "\n",
    "    current_iteration = 0\n",
    "    generate = True\n",
    "    while generate:\n",
    "        grammar_input = ','.join(grammar_map[-grammar_size:])\n",
    "        grammar_values = grammar[grammar_input]\n",
    "        weight_val = random.uniform(0, 1)\n",
    "        current_weight = 0.0\n",
    "        \n",
    "        for key in grammar_values:\n",
    "            current_weight += grammar_values[key]\n",
    "            \n",
    "            if current_weight > weight_val:\n",
    "                if current_iteration < MIN_MAP_LENGTH and key == FLAG_GRAMMAR:\n",
    "                    continue\n",
    "                    \n",
    "                grammar_map.append(key)\n",
    "                if key == END_GRAMMAR:\n",
    "                    generate = False\n",
    "                    \n",
    "                break\n",
    "                \n",
    "        current_iteration += 1\n",
    "    \n",
    "    map_text = ''\n",
    "    for g in grammar_map:\n",
    "        map_text += grammar_to_col[g] + '\\n'\n",
    "        \n",
    "    generate_image.convert_map(map_text, display=False, save_path='temp_map%i.png' % (i))"
   ]
  },
  {
   "cell_type": "markdown",
   "metadata": {},
   "source": [
    "### 1 Length Grammar"
   ]
  },
  {
   "cell_type": "code",
   "execution_count": null,
   "metadata": {},
   "outputs": [],
   "source": [
    "Image(filename='temp_map0.png')"
   ]
  },
  {
   "cell_type": "markdown",
   "metadata": {},
   "source": [
    "### 2 length Grammar"
   ]
  },
  {
   "cell_type": "code",
   "execution_count": null,
   "metadata": {},
   "outputs": [],
   "source": [
    "Image(filename='temp_map1.png')"
   ]
  },
  {
   "cell_type": "markdown",
   "metadata": {},
   "source": [
    "### 3 Length Grammar"
   ]
  },
  {
   "cell_type": "code",
   "execution_count": null,
   "metadata": {},
   "outputs": [],
   "source": [
    "Image(filename='temp_map2.png')"
   ]
  },
  {
   "cell_type": "markdown",
   "metadata": {},
   "source": [
    "### 4 Length Grammar"
   ]
  },
  {
   "cell_type": "code",
   "execution_count": null,
   "metadata": {},
   "outputs": [],
   "source": [
    "Image(filename='temp_map3.png')"
   ]
  },
  {
   "cell_type": "markdown",
   "metadata": {},
   "source": [
    "### 5 Length Grammar"
   ]
  },
  {
   "cell_type": "code",
   "execution_count": null,
   "metadata": {},
   "outputs": [],
   "source": [
    "Image(filename='temp_map4.png')"
   ]
  },
  {
   "cell_type": "markdown",
   "metadata": {},
   "source": [
    "After generation of images, delete them."
   ]
  },
  {
   "cell_type": "code",
   "execution_count": null,
   "metadata": {},
   "outputs": [],
   "source": [
    "os.remove('temp_map0.png')\n",
    "os.remove('temp_map1.png')\n",
    "os.remove('temp_map2.png')\n",
    "os.remove('temp_map3.png')\n",
    "os.remove('temp_map4.png')"
   ]
  }
 ],
 "metadata": {
  "kernelspec": {
   "display_name": "Python 3",
   "language": "python",
   "name": "python3"
  },
  "language_info": {
   "codemirror_mode": {
    "name": "ipython",
    "version": 3
   },
   "file_extension": ".py",
   "mimetype": "text/x-python",
   "name": "python",
   "nbconvert_exporter": "python",
   "pygments_lexer": "ipython3",
   "version": "3.6.6"
  }
 },
 "nbformat": 4,
 "nbformat_minor": 2
}
